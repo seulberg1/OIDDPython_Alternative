{
 "cells": [
  {
   "cell_type": "markdown",
   "metadata": {},
   "source": [
    "## Disclaimers"
   ]
  },
  {
   "cell_type": "markdown",
   "metadata": {},
   "source": [
    "* Coding is a classic learning-by-doing skill. It is good to learn the basics in a structured manner, but most learning happens if you just try and code things that interest you. Just try it and google the errors/bugs that arise.\n",
    "* Different people learn different coding concepts at different speeds and will need coding for entirely different reasons. There are multiple ways to achieve most coding outcomes and as long as you find a way that works for you, thats fine.\n",
    "* If you are having a problem - chances are you are not the first person to have said issue. Coding provides a great opportunity to hone the skill of finding the relevant piece of knowledge on the internet and applying it to your needs.\n",
    "***"
   ]
  },
  {
   "cell_type": "markdown",
   "metadata": {},
   "source": [
    "## Jupyter Notebooks\n",
    "Jupyter Notebooks are organized in cells. Every cell can either be **code**, which is executable commands in python or **markdown**, which allows you to write free-form text such as this cell.\n",
    "\n",
    "It is helpful in commenting/structuring your code. E.g. by telling other users or reminding yourself what a code section is about."
   ]
  },
  {
   "cell_type": "markdown",
   "metadata": {},
   "source": [
    "***\n",
    "## Python basics"
   ]
  },
  {
   "cell_type": "markdown",
   "metadata": {},
   "source": [
    "### The print command"
   ]
  },
  {
   "cell_type": "markdown",
   "metadata": {},
   "source": [
    "In order to print anything, so you can see output, you can use **print()** and write whatever content you want printed within the paranthesis. If you want text printed, you need to enclose the text within parantheses. The coding classic is to print *Hello World* to see that your programming language setup is working.\n",
    "\n",
    "Run the following cell by clicking in it and pressing **Shift+Enter** or **Run** in the ribbon line at the top."
   ]
  },
  {
   "cell_type": "code",
   "execution_count": null,
   "metadata": {},
   "outputs": [],
   "source": [
    "print(\"Hello World\")"
   ]
  },
  {
   "cell_type": "markdown",
   "metadata": {},
   "source": [
    "Note that, if you do not enclose the text in parantheses, it causes an error."
   ]
  },
  {
   "cell_type": "code",
   "execution_count": null,
   "metadata": {},
   "outputs": [],
   "source": [
    "print(Hello World)"
   ]
  },
  {
   "cell_type": "markdown",
   "metadata": {},
   "source": [
    "Printing numbers works similarly:"
   ]
  },
  {
   "cell_type": "code",
   "execution_count": null,
   "metadata": {},
   "outputs": [],
   "source": [
    "print(15)"
   ]
  },
  {
   "cell_type": "markdown",
   "metadata": {},
   "source": [
    "### Variables"
   ]
  },
  {
   "cell_type": "markdown",
   "metadata": {},
   "source": [
    "You can assign values on the RHS of an equal sign to variables on the LHS of the equal sign. You can freely choose any name for your variable (combination of letters and numbers and some special characters):"
   ]
  },
  {
   "cell_type": "code",
   "execution_count": null,
   "metadata": {},
   "outputs": [],
   "source": [
    "x = 2 #how to assign the value 2 to a variable called x\n",
    "y = 4\n",
    "crazyVariablenme_32151_ = 6\n",
    "print(x) #Printing the first variable\n",
    "print(y)\n",
    "print(crazyVariablenme_32151_)"
   ]
  },
  {
   "cell_type": "markdown",
   "metadata": {},
   "source": [
    "In addition to markdown cells, it is often convenient to comment within a code cell. Everything in a row after a # sign will be commented out and is understood to not be code."
   ]
  },
  {
   "cell_type": "markdown",
   "metadata": {},
   "source": [
    "Code is executed line by line from top to bottom within each cell, so if you assign the value 2 to variable x and then at some point further down assign x the value 3, it will overwrite the previous value."
   ]
  },
  {
   "cell_type": "code",
   "execution_count": null,
   "metadata": {},
   "outputs": [],
   "source": [
    "x = 2\n",
    "x = 3\n",
    "print(x)   #Runs line by line"
   ]
  },
  {
   "cell_type": "markdown",
   "metadata": {},
   "source": [
    "In assignments, the RHS is evaluated first and that value is stored in the variable on the LHS. `x = 10 * x` is therefore a perfectly valid statement. A single equal sign is not a mathematical equality."
   ]
  },
  {
   "cell_type": "code",
   "execution_count": null,
   "metadata": {},
   "outputs": [],
   "source": [
    "x = 2\n",
    "x = 10 * x #This also works as an assignment\n",
    "print(x)   "
   ]
  },
  {
   "cell_type": "markdown",
   "metadata": {},
   "source": [
    "### Math"
   ]
  },
  {
   "cell_type": "markdown",
   "metadata": {},
   "source": [
    "You can do math with variables, as you would expect. Note that, in order to raise something to the power, you use `**`.\n",
    "Also note, how you can **print multiple things in one print statement**, by separating it with commas."
   ]
  },
  {
   "cell_type": "code",
   "execution_count": null,
   "metadata": {},
   "outputs": [],
   "source": [
    "num1 = 2.5 #call your variables almost anything\n",
    "num2 = 4\n",
    "total = num1 + num2 #Do Math\n",
    "minus = num1 - num2\n",
    "multi = num1 * num2\n",
    "division = num1 / num2\n",
    "power = num1 ** num2\n",
    "print (total, minus, multi, division, power)# Print out multiple things"
   ]
  },
  {
   "cell_type": "markdown",
   "metadata": {},
   "source": [
    "Careful with **strings** (anything withhin \" \" is interpreted as text). Adding strings, simply means appending them."
   ]
  },
  {
   "cell_type": "code",
   "execution_count": null,
   "metadata": {},
   "outputs": [],
   "source": [
    "num3 = \"3\"\n",
    "num4 = \"5\"\n",
    "total2 = num3+num4\n",
    "print(total2) #What do you expect as the outcome Strings are not numbers"
   ]
  },
  {
   "cell_type": "markdown",
   "metadata": {},
   "source": [
    "It can be useful to append strings:"
   ]
  },
  {
   "cell_type": "code",
   "execution_count": null,
   "metadata": {},
   "outputs": [],
   "source": [
    "first = \"Christian\"\n",
    "last = \"Kaps\"\n",
    "name = first + last #strings concatenate\n",
    "print(name)\n",
    "name = first + \" \" + last \n",
    "print(name) #overwrite name with proper spacing"
   ]
  },
  {
   "cell_type": "markdown",
   "metadata": {},
   "source": [
    "You can also evaluate equalities / check if statements are true. `==` checks if the LHS and RHS are equal `!=` checks if they are unequal and `>=` `<=` test for inequalities. These **true/false** statements are called **booleans**."
   ]
  },
  {
   "cell_type": "code",
   "execution_count": null,
   "metadata": {},
   "outputs": [],
   "source": [
    "print(13 == 12) #booleans\n",
    "print(24/2 == 12)\n",
    "print(13 != 12)\n",
    "print(13 >= 12)\n",
    "False"
   ]
  },
  {
   "cell_type": "markdown",
   "metadata": {},
   "source": [
    "### Loops"
   ]
  },
  {
   "cell_type": "markdown",
   "metadata": {},
   "source": [
    "The real magic of coding does not arrise from using Python merely as a calculator, but by having code repeatedly executed. One way of achieving repeated execution are **loops**.\n",
    "The following is called a **for-loop** and three things are noteworthy: \n",
    "1. The code consists of one line that starts the loop. `for variablename in range(howManyIterationsToExecute):`\n",
    "    and is followed by  all statements that you want to execute repeadetly. Note the colon at the end.\n",
    "2. All code that is supposed to be repeatedly executed has to be indented. This indentation shows Python what code is within the for loop.\n",
    "3. Python zero-indexes, so if you want to count the first 10 numbers `range(10)`, it will print 0-9, not 1-10."
   ]
  },
  {
   "cell_type": "code",
   "execution_count": null,
   "metadata": {},
   "outputs": [],
   "source": [
    "for x in range(10):\n",
    "    print(x)\n",
    "    print(\"hello\")"
   ]
  },
  {
   "cell_type": "markdown",
   "metadata": {},
   "source": [
    "In the **range** statement, you can optionally provide the **startvalue, endvalue, step-size** to change what the loop goes through: "
   ]
  },
  {
   "cell_type": "code",
   "execution_count": null,
   "metadata": {},
   "outputs": [],
   "source": [
    "for x in range(1990,2000,3):\n",
    "    print(x) #Loop"
   ]
  },
  {
   "cell_type": "markdown",
   "metadata": {},
   "source": [
    "### If-else statements"
   ]
  },
  {
   "cell_type": "markdown",
   "metadata": {},
   "source": [
    "Another very useful control mechanism are so-called **if-else** statements, where code is only executed if certain conditions are met. The syntax is\n",
    "\n",
    "    if condition1:\n",
    "        execute if condition1 is true\n",
    "    else:\n",
    "        execute if condition 1 is false"
   ]
  },
  {
   "cell_type": "code",
   "execution_count": null,
   "metadata": {},
   "outputs": [],
   "source": [
    "testnum = 13 #If statement\n",
    "\n",
    "if testnum> 10:\n",
    "    print(\"LARGE\")\n",
    "else:\n",
    "    print(\"small\")"
   ]
  },
  {
   "cell_type": "markdown",
   "metadata": {},
   "source": [
    "Combining for loops and if-else statements becomes powerful quickly"
   ]
  },
  {
   "cell_type": "code",
   "execution_count": null,
   "metadata": {},
   "outputs": [],
   "source": [
    "for x in range(20): #combine the two things\n",
    "    if x > 10:\n",
    "        print(\"LARGE\")\n",
    "    else:\n",
    "        print(\"small\")"
   ]
  },
  {
   "cell_type": "markdown",
   "metadata": {},
   "source": [
    "`%` is the **modulo** operator - that returns the remainder if you divide one integer by another."
   ]
  },
  {
   "cell_type": "code",
   "execution_count": null,
   "metadata": {},
   "outputs": [],
   "source": [
    "for x in range (100, 200, 33):\n",
    "    if x % 2 == 0:\n",
    "        print(x, \"Even\")\n",
    "    else:\n",
    "        print(x, \"Odd\")"
   ]
  },
  {
   "cell_type": "markdown",
   "metadata": {},
   "source": [
    "- - - \n",
    "With some of the core control statements out of the way, lets get a little more advanced. If this feels like drinking from the firehose - don't worry, coding is eternally open book, no memorization needed, just try to wrap your head around as many concepts as possible and look up the exact syntax whenever you need to).\n",
    "- - -\n",
    "### User defined formulas"
   ]
  },
  {
   "cell_type": "markdown",
   "metadata": {},
   "source": [
    "Using the syntax `def myFunctionName(inputVariables):` you can define your own functions. Below, we define a function that checks if you are at the voting age in 2021."
   ]
  },
  {
   "cell_type": "code",
   "execution_count": null,
   "metadata": {},
   "outputs": [],
   "source": [
    "def votingRight(yearBorn):\n",
    "    Age = 2021 - yearBorn #Calculate Someting\n",
    "    voting =  (Age >= 18) #Check whether person is 18\n",
    "    if voting == True:\n",
    "        print(\"You are \" + str(Age) + \" years old and allowed to vote\" ) #If 18, print this out\n",
    "    else:\n",
    "        print(\"You are \" + str(Age) + \" years young and cannot vote yet\" )"
   ]
  },
  {
   "cell_type": "markdown",
   "metadata": {},
   "source": [
    "You then call the function by using the name you defined and entering the yearBorn variable into the parantheses"
   ]
  },
  {
   "cell_type": "code",
   "execution_count": null,
   "metadata": {},
   "outputs": [],
   "source": [
    "votingRight(1993)\n",
    "votingRight(1850)\n",
    "votingRight(2005)"
   ]
  },
  {
   "cell_type": "markdown",
   "metadata": {},
   "source": [
    "### Importing packages"
   ]
  },
  {
   "cell_type": "markdown",
   "metadata": {},
   "source": [
    "Python is great, because many programmers have already written alot of difficult code, easily packaged in so-called packages (who would have thought). During the installation process, you already installed **pandas and jupyter**, which automatically installed numpy (because pandas requires numpy as a dependency) as well. We will use **numpy** as an example to briefly show how it allows to very quickly do tremendous pieces of coding. Numpy allows you to do a lot of numerical manipulation in Python."
   ]
  },
  {
   "cell_type": "code",
   "execution_count": null,
   "metadata": {},
   "outputs": [],
   "source": [
    "import numpy #this loads all the contents of the numpy package"
   ]
  },
  {
   "cell_type": "markdown",
   "metadata": {},
   "source": [
    "Learning how to help yourself to solve coding problems is a core skill to develop. Don't know how to get a random number in Python, but know that numpy does number stuff? Just google *numpy how to get random number* and you will find results that teach you what to do"
   ]
  },
  {
   "cell_type": "code",
   "execution_count": null,
   "metadata": {},
   "outputs": [],
   "source": [
    "numpy.random.seed(123)\n",
    "mean = 100\n",
    "std = 20\n",
    "normalDemand = numpy.random.normal(mean, std)\n",
    "print(normalDemand)\n",
    "morenormalDemands = numpy.random.normal(mean, std, size = 10)\n",
    "print(morenormalDemands)"
   ]
  },
  {
   "cell_type": "markdown",
   "metadata": {},
   "source": [
    "Get 100 random integers between 0 and 35"
   ]
  },
  {
   "cell_type": "code",
   "execution_count": null,
   "metadata": {},
   "outputs": [],
   "source": [
    "numpy.random.randint(0,36,100)"
   ]
  },
  {
   "cell_type": "markdown",
   "metadata": {},
   "source": [
    "Guess you want to plot some of this, so google: *plot a histogram in python*:\n",
    "https://stackoverflow.com/questions/33203645/how-to-plot-a-histogram-using-matplotlib-in-python-with-a-list-of-data"
   ]
  },
  {
   "cell_type": "markdown",
   "metadata": {},
   "source": [
    "You see in the first answer on Stackoverflow that you can name your packages when importing them by using `import packageWithLongname as nickname`, so we will follow that convention for the numpy package we previously imported and the matplotlib library that will help us plot."
   ]
  },
  {
   "cell_type": "code",
   "execution_count": 6,
   "metadata": {},
   "outputs": [],
   "source": [
    "import numpy as np\n",
    "import matplotlib.pyplot as plt #https://stackoverflow.com/questions/33203645/how-to-plot-a-histogram-using-matplotlib-in-python-with-a-list-of-data"
   ]
  },
  {
   "cell_type": "markdown",
   "metadata": {},
   "source": [
    "If you just got error **ModuleNotFoundError: No module named 'matplotlib'**, Python is telling you that it does not know what matplotlib is. To solve this, 1) go to Anaconda Navigator > Environments, 2) select the current environment and 3) install matplotlib. Then come back here and it should be able to import the package.\n"
   ]
  },
  {
   "cell_type": "markdown",
   "metadata": {},
   "source": [
    "Now flip 10 coins 1000 times and get the distribution of how many heads you have in each of the 1000 tries"
   ]
  },
  {
   "cell_type": "code",
   "execution_count": null,
   "metadata": {},
   "outputs": [],
   "source": [
    "x = np.random.normal(100,20,1000) #Draw 1000 times from a normal distribution with mean 100 and std dev 20\n",
    "plt.hist(x)"
   ]
  },
  {
   "cell_type": "markdown",
   "metadata": {},
   "source": [
    "### Lists"
   ]
  },
  {
   "cell_type": "markdown",
   "metadata": {},
   "source": [
    "Lists are a great way of storing data in an easy ay to sort / filter them or to do math on multiple items:"
   ]
  },
  {
   "cell_type": "code",
   "execution_count": null,
   "metadata": {},
   "outputs": [],
   "source": [
    "y = []\n",
    "print(y)"
   ]
  },
  {
   "cell_type": "code",
   "execution_count": null,
   "metadata": {},
   "outputs": [],
   "source": [
    "y = [] #Creates ana empty list and stores it in variable y\n",
    "print(y)\n",
    "y.append(2) #Appends the number 2 to the list\n",
    "print(y)\n",
    "y.append(4) #Appends the number 4 to the list\n",
    "print(y)"
   ]
  },
  {
   "cell_type": "markdown",
   "metadata": {},
   "source": [
    "You can append different datatypes into lists as well, and retrieve them with `list[integer]`"
   ]
  },
  {
   "cell_type": "code",
   "execution_count": null,
   "metadata": {},
   "outputs": [],
   "source": [
    "list1 = [1945, \"wharton\", \"oidd\", \"python\", True] \n",
    "list1[3] #beware of zero indexing"
   ]
  },
  {
   "cell_type": "markdown",
   "metadata": {},
   "source": [
    "There are many pre-defined functions to work on lists, such as `len(listname)` or `sorted(listname)` that, shockingly, return the length of the list or sort its items. For more info: https://www.datacamp.com/community/tutorials/python-list-function"
   ]
  },
  {
   "cell_type": "code",
   "execution_count": null,
   "metadata": {},
   "outputs": [],
   "source": [
    "list2 = [16, 12, 1, 3, 5, 7, 8, 8, 10]\n",
    "print(len(list2))\n",
    "print(sorted(list2))"
   ]
  },
  {
   "cell_type": "markdown",
   "metadata": {},
   "source": [
    "### Dictionaries"
   ]
  },
  {
   "cell_type": "markdown",
   "metadata": {},
   "source": [
    "In the interest of time, we are not going to introduce dictionaries here, but they are a very useful way of storing data, based on keywords. Check the 101 jupyter notebook or google for more details."
   ]
  },
  {
   "cell_type": "markdown",
   "metadata": {},
   "source": [
    "### Arrays"
   ]
  },
  {
   "cell_type": "markdown",
   "metadata": {},
   "source": [
    "Often times, you want to deal with tables or data that is structured in arrays (matrices with rows and columns). You access values in an array by `array[rownumber,columnnumber]` and remembering Python's zero indexing"
   ]
  },
  {
   "cell_type": "code",
   "execution_count": null,
   "metadata": {},
   "outputs": [],
   "source": [
    "myArray = np.zeros(shape=(3,6)) #Creates an array with 3 rows and  6 colums of 0s\n",
    "print(myArray.shape) #prints the dimensions of the Array\n",
    "print(myArray)\n",
    "myArray[0,0]= 1 #Write 1 into the top left corner\n",
    "myArray[2,5] = 13 #Write 13 in the bottom left corner\n",
    "print(myArray)"
   ]
  },
  {
   "cell_type": "markdown",
   "metadata": {},
   "source": [
    "In the following, we assign two variables at once, because the myArray.shape returns a tuple (two values) that can be directly assigned and the use two nested for loops to change the values of the values in the Array. Just by recombining the basic building blocks, one can get useful pieces of code."
   ]
  },
  {
   "cell_type": "code",
   "execution_count": null,
   "metadata": {},
   "outputs": [],
   "source": [
    "myArray.shape"
   ]
  },
  {
   "cell_type": "code",
   "execution_count": null,
   "metadata": {},
   "outputs": [],
   "source": [
    "numRows, numCols = myArray.shape\n",
    "for row in range(numRows):\n",
    "    for col in range(numCols):\n",
    "        myArray[row, col] = row*10+col\n",
    "print(myArray)"
   ]
  },
  {
   "cell_type": "markdown",
   "metadata": {},
   "source": [
    "***\n",
    "Take a quick breather, you so far have learned about:\n",
    "\n",
    "    - Defining and using variables (integers, strings, booleans)   \n",
    "    - Doing math in Python\n",
    "    - Python code structure and indentation\n",
    "    - For loops\n",
    "    - If, else statements\n",
    "    - Importing Packages\n",
    "    - Random Numbers\n",
    "    - Plotting\n",
    "    - Lists\n",
    "    - Arrays\n",
    "***"
   ]
  },
  {
   "cell_type": "markdown",
   "metadata": {},
   "source": [
    "## Example Simulating Retailers Profit - Recitation 5 Exercise\n",
    "*Am electronics retailer placed an order with its supplier for Q=1,000 units of a new cell phone, paying the supplier USD600 per unit. The retailer sets the price of USD800 for each unit\n",
    "Based on the past sales history, retailer’s analysts estimate that, at this price, the demand for the cell phone, D, can be modeled as $D = 900 +\\epsilon$ where $\\epsilon$ is a normal random variable with mean $0$ and the standard deviation of $250$.* \n",
    "\n",
    "*If the demand D exceeds the supply Q, the difference between D and Q is lost to competitors. If supply Q exceed the demand D, $Q-D$ units will be sold to a discount chain at the “salvage” price of USD300. Thus, the retailer’s profit P (in USD) as a function of demand D and supply Q can we expressed as $P=800* \\min(Q,D)+300*(Q-\\min(Q,D)) – 600*Q$*"
   ]
  },
  {
   "cell_type": "markdown",
   "metadata": {},
   "source": [
    "- - -\n",
    "### Questions 1 - 3\n",
    "Q1) Suppose that e  = 250. Calculate the retailer’s profit P \n",
    "\n",
    "Q2) Suppose that e  = -250. Calculate the retailer’s profit P. \n",
    "\n",
    "Q3) Suppose that e  takes the values 250 and -250, each with probability 0.5. What is the expected value of P? What is the standard deviation of P? "
   ]
  },
  {
   "cell_type": "markdown",
   "metadata": {},
   "source": [
    "First, we just store all the information we have been given in variables, so we can quickly access them later. Use whatever names you want and can remember. Typically there is a sweetspot between variable names being short while still being intelligable."
   ]
  },
  {
   "cell_type": "code",
   "execution_count": 1,
   "metadata": {},
   "outputs": [],
   "source": [
    "Q = 1000\n",
    "D = 900\n",
    "e_mean = 0\n",
    "e_std = 250\n",
    "cost = 600\n",
    "priceFull = 800\n",
    "priceSalvage = 300"
   ]
  },
  {
   "cell_type": "markdown",
   "metadata": {},
   "source": [
    "The Excel model equivalent in Python is a user-defined function. You define which inputs it takes, what do to with it and which outputs you want. \n",
    "\n",
    "We will start with a very simple function and iteratively improve on it, so the individual steps are more easily digestible. Lets get started with the first try:"
   ]
  },
  {
   "cell_type": "code",
   "execution_count": 2,
   "metadata": {},
   "outputs": [],
   "source": [
    "def retailProfitTry1(Q, D, epsilon, cost, priceFull, priceSalvage):\n",
    "    \n",
    "    #How much demand are we actually facing\n",
    "    actualD = D + epsilon\n",
    "    \n",
    "    #You can only sell as many phones as you have and as there is demand for\n",
    "    actualSales = min(actualD, Q)\n",
    "    discountSales = Q-actualSales\n",
    "    \n",
    "    #Revenue is simply quantitiy times price\n",
    "    revFull = actualSales*priceFull\n",
    "    revSalvage = discountSales*priceSalvage\n",
    "    \n",
    "    #Calculate cost and then net profit\n",
    "    purchaseCost = Q*cost\n",
    "    profit = revFull + revSalvage - purchaseCost\n",
    "    return profit"
   ]
  },
  {
   "cell_type": "markdown",
   "metadata": {},
   "source": [
    "We then plug in the given values from above to get the revenue (you should get 200000 with the default values)"
   ]
  },
  {
   "cell_type": "code",
   "execution_count": 3,
   "metadata": {},
   "outputs": [
    {
     "data": {
      "text/plain": [
       "200000"
      ]
     },
     "execution_count": 3,
     "metadata": {},
     "output_type": "execute_result"
    }
   ],
   "source": [
    "retailProfitTry1(Q, D, 250, cost, priceFull, priceSalvage)"
   ]
  },
  {
   "cell_type": "markdown",
   "metadata": {},
   "source": [
    "This already answered Q1 - with $\\epsilon = 250$, you make USD200k profit. Next one."
   ]
  },
  {
   "cell_type": "code",
   "execution_count": 7,
   "metadata": {},
   "outputs": [
    {
     "data": {
      "text/plain": [
       "25000"
      ]
     },
     "execution_count": 7,
     "metadata": {},
     "output_type": "execute_result"
    }
   ],
   "source": [
    "retailProfitTry1(Q, D, -250, cost, priceFull, priceSalvage)"
   ]
  },
  {
   "cell_type": "markdown",
   "metadata": {},
   "source": [
    "Q2 - with $\\epsilon = 250$, you make USD25k profit."
   ]
  },
  {
   "cell_type": "code",
   "execution_count": 8,
   "metadata": {},
   "outputs": [
    {
     "name": "stdout",
     "output_type": "stream",
     "text": [
      "112500.0 112500.0 87500.0\n"
     ]
    }
   ],
   "source": [
    "q1Profit = retailProfitTry1(Q, D, 250, cost, priceFull, priceSalvage)\n",
    "q2Profit = retailProfitTry1(Q, D, -250, cost, priceFull, priceSalvage)\n",
    "\n",
    "q3averageProfit = (q1Profit + q2Profit)/2\n",
    "q3averageProfit_Alternative = np.average([q1Profit, q2Profit]) #You need to put both profits into a list, because numpy expects an array/list\n",
    "q3StdProfit = np.std([q1Profit, q2Profit])\n",
    "\n",
    "print(q3averageProfit, q3averageProfit_Alternative, q3StdProfit)"
   ]
  },
  {
   "cell_type": "markdown",
   "metadata": {},
   "source": [
    "So much for Q1-Q3. \n",
    "\n",
    "---\n",
    "## Question 4-5\n",
    "Q4) Treating e  as a normally distributed random variable with mean 0 and standard deviation of 250. Create a spreadsheet model to evaluate P. \n",
    "\n",
    "Q5) Run a Crystal Ball simulation with 100,000 trials, and a seed of 123 to generate a distribution of profit P. Based on the results of your simulation, answer the following questions:\n",
    "\n",
    "What is an estimate for the expected profit?\n",
    "What is an estimate for the standard deviation of profit?  \n",
    "What is an estimate for the probability that the actual profit will be USD100,000 or lower?\n"
   ]
  },
  {
   "cell_type": "markdown",
   "metadata": {},
   "source": [
    "As we learned above, getting random variables in Python is super easy, we just use the numpy package `np.random.normal(mean, std, #Observations)`. Lets get us 100k epsilon observations. It will be stored in a vector (essentially a row of 100k entries, where each cell is one value of epsilon)"
   ]
  },
  {
   "cell_type": "code",
   "execution_count": 9,
   "metadata": {},
   "outputs": [
    {
     "name": "stdout",
     "output_type": "stream",
     "text": [
      "[ -51.78357536  -64.1177608  -419.28591315 -249.85864369  117.53378149\n",
      " -450.67860422   80.67985994  106.28798527  297.41398968 -275.27076333]\n"
     ]
    }
   ],
   "source": [
    "numTrials = 100000\n",
    "numTrials = 100_000 #You can use underscores to breakdown larger numbers, so you make sure to enter the right number of zeros. The two lines are equivalent\n",
    "epsilonVec = np.random.normal(e_mean, e_std, numTrials)\n",
    "print(epsilonVec[0:10]) #If you want to look at the first 10 epsilon entries"
   ]
  },
  {
   "cell_type": "markdown",
   "metadata": {},
   "source": [
    "Now that we have the random element and the revenue function, we need to plug in the values into the function 100k times. There are faster ways of doing this than what I am going to show (google \"code vectorization\" if you are interested), but this way works more generally and is more intuitive for most people starting with coding. In general, there are often dozens of ways to achieve the same outcome in Python. Which way you choose initially is irrelevant as long as the code works for your purposes. After that you can always make your code faster, cleaner, more asthetic."
   ]
  },
  {
   "cell_type": "code",
   "execution_count": 10,
   "metadata": {},
   "outputs": [
    {
     "name": "stdout",
     "output_type": "stream",
     "text": [
      "[[124108.21232239]\n",
      " [117941.11959965]\n",
      " [-59642.95657317]\n",
      " [ 25070.67815699]\n",
      " [200000.        ]]\n"
     ]
    }
   ],
   "source": [
    "#First, we create an array to store the results of each run (100k rows, 1 columns - we only store profit)\n",
    "simResults = np.zeros(shape=(numTrials,1)) \n",
    "\n",
    "# We now loop through the list of epsilons, and plug each epsilon into the revenue formula and store the outcomes\n",
    "for i in range(numTrials):\n",
    "    currentE = epsilonVec[i] \n",
    "    simResults[i,:] = retailProfitTry1(Q, D, currentE, cost, priceFull, priceSalvage)\n",
    "    \n",
    "#Look at the first rows of simResults\n",
    "print(simResults[0:5,:])"
   ]
  },
  {
   "cell_type": "code",
   "execution_count": 11,
   "metadata": {},
   "outputs": [
    {
     "name": "stdout",
     "output_type": "stream",
     "text": [
      "[121392.41543883]\n"
     ]
    }
   ],
   "source": [
    "answerQ5 = np.mean(simResults, axis = 0)\n",
    "print(answerQ5)"
   ]
  },
  {
   "cell_type": "markdown",
   "metadata": {},
   "source": [
    "Given that you want the coveted OIDD001 return offer, you want to go the extra mile and plot the distribution of the revenues, and get some more descriptive statistics. Conveniently, this teaches some useful Python techniques. Note, this will require the `matplotlib` package for plotting and you can just skip this part if you want to just get the answers to the case."
   ]
  },
  {
   "cell_type": "code",
   "execution_count": 12,
   "metadata": {},
   "outputs": [],
   "source": [
    "#Make sure the graphs display in line\n",
    "%matplotlib inline "
   ]
  },
  {
   "cell_type": "code",
   "execution_count": 13,
   "metadata": {},
   "outputs": [
    {
     "data": {
      "image/png": "[encoded data removed]",
      "text/plain": [
       "<Figure size 576x432 with 1 Axes>"
      ]
     },
     "metadata": {
      "needs_background": "light"
     },
     "output_type": "display_data"
    }
   ],
   "source": [
    "plt.figure(figsize=[8,6]) #Tell Python that you want to start plotting and want the graph to be 6x4 inches (do not ask me why they have not used the clearly superior metric system)\n",
    "nums, bins, patches = plt.hist(simResults, bins=50, label=[\"netProfit\"]) #You want a histogram from the results, spread across 50 values (the more values, the more granular the histogram). \n",
    "#Density=True returns the %likelihood of seeing a certain results, rather than absolute number of observations \n",
    "#label = [\"netProfit\"] tells matplotlib the description for each of the column in simResults, so it knows what to put in the legend\n",
    "plt.xlabel('USD',fontsize=15) #The label at the x-axis should say USD in size 15\n",
    "plt.ylabel('#Probability',fontsize=15) #The label at the y-axis should say #Probability in size 15\n",
    "plt.title('Net Profit Retailer Distribution Graph',fontsize=15) #Set title and fontsize\n",
    "plt.ylim((0,15000)) #Set the y-axis to go from 0 to 15,000. There are a lot more observations at profit = USD200,000\n",
    "plt.legend() #Plot legend\n",
    "plt.show()"
   ]
  },
  {
   "cell_type": "markdown",
   "metadata": {},
   "source": [
    "To lazily get some descriptive statistics, we import the `pandas` package - you may notice a trend here. If you want to accomplish something, most likely some smart software developer somewhere has always made it available, you just need to import it. \n",
    "Pandas in general is used for a lot of data analysis/science in Python and comes close to an Excel way of thinking as one of its core datastructures (the `DataFrame`), is essentially a massive table that you can manipulate. \n",
    "We now load our result variable into this *DataFrame* structure and then can use all of pandas functionality - in this case the `describe()` function that simply returns descriptive statistics."
   ]
  },
  {
   "cell_type": "code",
   "execution_count": 14,
   "metadata": {},
   "outputs": [
    {
     "data": {
      "text/html": [
       "<div>\n",
       "<style scoped>\n",
       "    .dataframe tbody tr th:only-of-type {\n",
       "        vertical-align: middle;\n",
       "    }\n",
       "\n",
       "    .dataframe tbody tr th {\n",
       "        vertical-align: top;\n",
       "    }\n",
       "\n",
       "    .dataframe thead th {\n",
       "        text-align: right;\n",
       "    }\n",
       "</style>\n",
       "<table border=\"1\" class=\"dataframe\">\n",
       "  <thead>\n",
       "    <tr style=\"text-align: right;\">\n",
       "      <th></th>\n",
       "      <th>netProfit</th>\n",
       "    </tr>\n",
       "  </thead>\n",
       "  <tbody>\n",
       "    <tr>\n",
       "      <th>count</th>\n",
       "      <td>100000.00</td>\n",
       "    </tr>\n",
       "    <tr>\n",
       "      <th>mean</th>\n",
       "      <td>121392.42</td>\n",
       "    </tr>\n",
       "    <tr>\n",
       "      <th>std</th>\n",
       "      <td>89385.14</td>\n",
       "    </tr>\n",
       "    <tr>\n",
       "      <th>min</th>\n",
       "      <td>-410494.32</td>\n",
       "    </tr>\n",
       "    <tr>\n",
       "      <th>25%</th>\n",
       "      <td>65963.02</td>\n",
       "    </tr>\n",
       "    <tr>\n",
       "      <th>50%</th>\n",
       "      <td>150266.07</td>\n",
       "    </tr>\n",
       "    <tr>\n",
       "      <th>75%</th>\n",
       "      <td>200000.00</td>\n",
       "    </tr>\n",
       "    <tr>\n",
       "      <th>max</th>\n",
       "      <td>200000.00</td>\n",
       "    </tr>\n",
       "  </tbody>\n",
       "</table>\n",
       "</div>"
      ],
      "text/plain": [
       "       netProfit\n",
       "count  100000.00\n",
       "mean   121392.42\n",
       "std     89385.14\n",
       "min   -410494.32\n",
       "25%     65963.02\n",
       "50%    150266.07\n",
       "75%    200000.00\n",
       "max    200000.00"
      ]
     },
     "execution_count": 14,
     "metadata": {},
     "output_type": "execute_result"
    }
   ],
   "source": [
    "import pandas as pd\n",
    "#You can use the optional \"colums\" parameter in pd.DataFrame() to give your columns names, which is useful for subsequent identification.\n",
    "resDF = pd.DataFrame(simResults, columns=[\"netProfit\"]) \n",
    "resDF.describe().round(2)"
   ]
  },
  {
   "cell_type": "markdown",
   "metadata": {},
   "source": [
    "How likely is it to have a profit of less than USD100k?"
   ]
  },
  {
   "cell_type": "code",
   "execution_count": 15,
   "metadata": {},
   "outputs": [
    {
     "name": "stdout",
     "output_type": "stream",
     "text": [
      "[[False]\n",
      " [False]\n",
      " [ True]\n",
      " ...\n",
      " [False]\n",
      " [False]\n",
      " [False]]\n",
      "The Q5 answer, i.e. the probability with which you make less than 100k profit is [0.34271]\n"
     ]
    }
   ],
   "source": [
    "comparison = simResults < 100000 #This will give you a vector of True and False. False is equal to 0, True is equal to 1.\n",
    "print(comparison)\n",
    "q5Prob = sum(comparison)/100000 #So if you sum over the vector, you get get the sum over all incidences with losses worse than USD-100k and dividing by 100,000 gives you the ratio\n",
    "print(\"The Q5 answer, i.e. the probability with which you make less than 100k profit is \" + str(q5Prob))"
   ]
  },
  {
   "cell_type": "markdown",
   "metadata": {},
   "source": [
    "## Recitation 6: Insurance plan vs. no insurance"
   ]
  },
  {
   "cell_type": "markdown",
   "metadata": {},
   "source": [
    "Store all the information we get in variables"
   ]
  },
  {
   "cell_type": "code",
   "execution_count": 18,
   "metadata": {},
   "outputs": [],
   "source": [
    "premium = 6450\n",
    "deductible = 5000\n",
    "coPay = 0.2\n",
    "cap = 15000"
   ]
  },
  {
   "cell_type": "markdown",
   "metadata": {},
   "source": [
    "Lets build a function to calcualte the out-of-pocket-expense"
   ]
  },
  {
   "cell_type": "code",
   "execution_count": 19,
   "metadata": {},
   "outputs": [],
   "source": [
    "def outOfPocket(actualExpenses, premium, deductible, coPay, cap):\n",
    "    deductiblePayments = min(actualExpenses, deductible) # you pay all the expenses until you hit the deductible yourself\n",
    "    excessPayments = max(0, coPay*(actualExpenses-deductible)) # you pay the coPay rate (20% by default) for all expenses above the deductible\n",
    "    totalOOP = premium + min(deductiblePayments + excessPayments, cap) #You pay the premium, no matter what and then the sum of other two expenses (which is capped)\n",
    "    return totalOOP"
   ]
  },
  {
   "cell_type": "markdown",
   "metadata": {},
   "source": [
    "Just a quick try to see that the function does not throw an error:"
   ]
  },
  {
   "cell_type": "code",
   "execution_count": 21,
   "metadata": {},
   "outputs": [
    {
     "data": {
      "text/plain": [
       "13450.0"
      ]
     },
     "execution_count": 21,
     "metadata": {},
     "output_type": "execute_result"
    }
   ],
   "source": [
    "outOfPocket(15000, premium, deductible, coPay, cap)"
   ]
  },
  {
   "cell_type": "markdown",
   "metadata": {},
   "source": [
    "Draw variables from the distribution of medical expense variables (Mean 12000, std dev 3000) and print the first 5"
   ]
  },
  {
   "cell_type": "code",
   "execution_count": 90,
   "metadata": {},
   "outputs": [
    {
     "name": "stdout",
     "output_type": "stream",
     "text": [
      "[10097.31789735 12228.80168761 13019.57340309 15174.81906412\n",
      " 12396.04295002]\n"
     ]
    }
   ],
   "source": [
    "numTrials = 1_000\n",
    "medExp = np.random.normal(12000, 3000, size=numTrials)\n",
    "print(medExp[0:5])"
   ]
  },
  {
   "cell_type": "code",
   "execution_count": 91,
   "metadata": {},
   "outputs": [
    {
     "name": "stdout",
     "output_type": "stream",
     "text": [
      "[[12469.46357947 10847.31789735]\n",
      " [12895.76033752 12978.80168761]\n",
      " [13053.91468062 13769.57340309]\n",
      " [13484.96381282 15924.81906412]\n",
      " [12929.20859    13146.04295002]]\n"
     ]
    }
   ],
   "source": [
    "resArray = np.zeros(shape=(numTrials,2)) #We create a solution array that has as many rows as we have demands and 2 columns (one column for /w insurance and one column for w/o insurance)\n",
    "\n",
    "#Now we will run through the simulation 100,000 times\n",
    "for i in range(numTrials):\n",
    "    curTrialMedExp = medExp[i] #In run number i we take the ith value from our medical expense random variable vector as the current realization\n",
    "    resArray[i,0] = outOfPocket(curTrialMedExp, premium, deductible, coPay, cap) #For this particular medical expense realization, we calculate the cost with insurance and store it in row i, column 0\n",
    "    resArray[i,1] = curTrialMedExp+750 #For this particular medical expense realization, we also calculate the cost without insurance and store it in row i, column 1\n",
    "    \n",
    "print(resArray[0:5,:])"
   ]
  },
  {
   "cell_type": "markdown",
   "metadata": {},
   "source": [
    "Q2 - Get the expected out-of-pocket amounts under the two options.\n",
    "\n",
    "We have the results of the simulation in the array called `resArray`, so we can calculate summary statistics using those stored values"
   ]
  },
  {
   "cell_type": "code",
   "execution_count": 92,
   "metadata": {},
   "outputs": [
    {
     "name": "stdout",
     "output_type": "stream",
     "text": [
      "The mean expenses with insurance were 12840.601607527396 while the mean expenses without insurance were 12743.41874983495\n"
     ]
    }
   ],
   "source": [
    "AvgYesIns, AvgNoIns = np.mean(resArray,axis=0)  \n",
    "print(\"The mean expenses with insurance were \" + str(AvgYesIns) + \" while the mean expenses without insurance were \" + str(AvgNoIns))"
   ]
  },
  {
   "cell_type": "markdown",
   "metadata": {},
   "source": [
    "Q3 - Calculate the 95% CI"
   ]
  },
  {
   "cell_type": "markdown",
   "metadata": {},
   "source": [
    "Use the Mean standard error, but how do get the mean standard error in Python? https://www.statology.org/standard-error-of-mean-python/"
   ]
  },
  {
   "cell_type": "code",
   "execution_count": 93,
   "metadata": {},
   "outputs": [],
   "source": [
    "YesStdMeanError, NoStdMeanError = np.std(resArray, axis=0) / np.sqrt(numTrials)"
   ]
  },
  {
   "cell_type": "markdown",
   "metadata": {},
   "source": [
    "Now we can get the 95% bounds with the usual formula "
   ]
  },
  {
   "cell_type": "code",
   "execution_count": 94,
   "metadata": {},
   "outputs": [
    {
     "name": "stdout",
     "output_type": "stream",
     "text": [
      "Yes insurance Mean Bounds: 12837.828786977889 12843.374428076904\n",
      "No insurance Mean Bounds: 12730.27514710962 12756.562352560279\n"
     ]
    }
   ],
   "source": [
    "LBYesIns = AvgYesIns - 1.96* YesStdMeanError\n",
    "UBYesIns = AvgYesIns + 1.96* YesStdMeanError\n",
    "LBNoIns = AvgNoIns - 1.96* NoStdMeanError\n",
    "UBNoIns = AvgNoIns + 1.96* NoStdMeanError\n",
    "print(\"Yes insurance Mean Bounds: \"+ str(LBYesIns) +\" \" + str(UBYesIns))\n",
    "print(\"No insurance Mean Bounds: \"+ str(LBNoIns) +\" \" + str(UBNoIns))"
   ]
  },
  {
   "cell_type": "markdown",
   "metadata": {},
   "source": [
    "Q4&Q5 - An unscientific, but quick hack would be to not care too much about how many runs are required, we just run it 100k (or 1M) times and hope that the mean is acurate enough."
   ]
  },
  {
   "cell_type": "code",
   "execution_count": 96,
   "metadata": {},
   "outputs": [],
   "source": [
    "#We rerun everthing, just 100k times\n",
    "numTrials2 = 100_000\n",
    "\n",
    "resArray2 = np.zeros(shape=(numTrials2,2))\n",
    "\n",
    "for i in range(numTrials2):\n",
    "    curTrialMedExp = medExp[i] \n",
    "    resArray2[i,0] = outOfPocket(curTrialMedExp, premium, deductible, coPay, cap)\n",
    "    resArray2[i,1] = curTrialMedExp+750 \n"
   ]
  },
  {
   "cell_type": "markdown",
   "metadata": {},
   "source": [
    "Before we make any decision, lets look at the histogram of expenses (a picture says more than 1000 summary statistics)"
   ]
  },
  {
   "cell_type": "code",
   "execution_count": 97,
   "metadata": {},
   "outputs": [
    {
     "data": {
      "image/png": "[encoded data removed]",
      "text/plain": [
       "<Figure size 576x432 with 1 Axes>"
      ]
     },
     "metadata": {
      "needs_background": "light"
     },
     "output_type": "display_data"
    }
   ],
   "source": [
    "plt.figure(figsize=[8,6]) \n",
    "nums, bins, patches = plt.hist(resArray2, bins=50, label=[\"With Insurance\",\"Without Insurance\"]) \n",
    "plt.xlabel('Out of Pocket payments in USD',fontsize=15) \n",
    "plt.ylabel('#Observations',fontsize=15) \n",
    "plt.title('Insurance Payment Distribution',fontsize=15) \n",
    "plt.ylim((0,15000)) \n",
    "plt.legend() \n",
    "plt.show()"
   ]
  },
  {
   "cell_type": "code",
   "execution_count": 98,
   "metadata": {},
   "outputs": [
    {
     "data": {
      "text/plain": [
       "array([12838.71973999, 12733.63209963])"
      ]
     },
     "execution_count": 98,
     "metadata": {},
     "output_type": "execute_result"
    }
   ],
   "source": [
    "np.mean(resArray2, axis=0)"
   ]
  },
  {
   "cell_type": "markdown",
   "metadata": {},
   "source": [
    "So even though, with the insurance you pay marginally more money, the insurance works - i.e. you always pay somewhere between 10,000-15,000 USD. Whereas without the insurance, you may get lucky and have low expenses one year and then get hit with 25000 USD expenses the next year. In reality, those extreme payments of course can be a lot higher - anyone who has ever set foot into a US hospital knows what we are talking about..."
   ]
  },
  {
   "cell_type": "markdown",
   "metadata": {},
   "source": [
    "Q6 - Based on the results of the last simulation, what are the estimates for the probabilities of actual out-of-pocket amounts to exceed $14,000 under each option?"
   ]
  },
  {
   "cell_type": "markdown",
   "metadata": {},
   "source": [
    "Feel free to take this statement apart and play around with it - the individual components are explained in the comments"
   ]
  },
  {
   "cell_type": "code",
   "execution_count": 105,
   "metadata": {},
   "outputs": [
    {
     "data": {
      "text/plain": [
       "array([0.02774, 0.33654])"
      ]
     },
     "execution_count": 105,
     "metadata": {},
     "output_type": "execute_result"
    }
   ],
   "source": [
    "np.sum(resArray>14000, axis=0)/numTrials2\n",
    "#resArray>14000 evaluates for each run if one had to pay more than 14000 out of pocket and returns True/False which is equal to 1/0\n",
    "# np.sum (... axis=0) sums over each column to count how often this statement is true in each of the two cases (yes/no insurance)\n",
    "#dividing the sums by numTrials2 gives us the fraction at which this occurs, which is 2-3% in the insurance case and 33-34% without the insurance"
   ]
  },
  {
   "cell_type": "markdown",
   "metadata": {},
   "source": [
    "And now, feel free to implement R6 in Python:)"
   ]
  },
  {
   "cell_type": "code",
   "execution_count": null,
   "metadata": {},
   "outputs": [],
   "source": []
  }
 ],
 "metadata": {
  "kernelspec": {
   "display_name": "Python [conda env:SolarwattEnv]",
   "language": "python",
   "name": "conda-env-SolarwattEnv-py"
  },
  "language_info": {
   "codemirror_mode": {
    "name": "ipython",
    "version": 3
   },
   "file_extension": ".py",
   "mimetype": "text/x-python",
   "name": "python",
   "nbconvert_exporter": "python",
   "pygments_lexer": "ipython3",
   "version": "3.7.10"
  }
 },
 "nbformat": 4,
 "nbformat_minor": 4
}
